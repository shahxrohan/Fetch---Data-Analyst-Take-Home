{
 "cells": [
  {
   "cell_type": "markdown",
   "id": "0e8fa2b2-e6ca-417d-b7b0-9ac3e9710466",
   "metadata": {},
   "source": [
    "# TRANSACTION_TAKEHOME"
   ]
  },
  {
   "cell_type": "markdown",
   "id": "8ef97f7b-9070-4731-bf0a-b75761dac4fd",
   "metadata": {},
   "source": [
    "### Load libraries and data"
   ]
  },
  {
   "cell_type": "code",
   "execution_count": 1,
   "id": "483ee574-94c5-4144-854e-acd7c2827e5a",
   "metadata": {},
   "outputs": [],
   "source": [
    "# import libraries\n",
    "import pandas as pd\n",
    "import matplotlib.pyplot as plt"
   ]
  },
  {
   "cell_type": "code",
   "execution_count": 2,
   "id": "b966518b-fb1c-4c03-9589-c468824f5b5f",
   "metadata": {},
   "outputs": [],
   "source": [
    "# Load the data\n",
    "data = pd.read_csv('/Users/rohanshah_95/Desktop/Fetch/TRANSACTION_TAKEHOME.csv')"
   ]
  },
  {
   "cell_type": "markdown",
   "id": "b2583ce8-851d-4eb1-bd5c-5c2a01fdbc31",
   "metadata": {},
   "source": [
    "### Explore data"
   ]
  },
  {
   "cell_type": "code",
   "execution_count": 3,
   "id": "dc0e86c7-497b-4282-bf80-cb2190efb9f6",
   "metadata": {},
   "outputs": [
    {
     "data": {
      "text/html": [
       "<div>\n",
       "<style scoped>\n",
       "    .dataframe tbody tr th:only-of-type {\n",
       "        vertical-align: middle;\n",
       "    }\n",
       "\n",
       "    .dataframe tbody tr th {\n",
       "        vertical-align: top;\n",
       "    }\n",
       "\n",
       "    .dataframe thead th {\n",
       "        text-align: right;\n",
       "    }\n",
       "</style>\n",
       "<table border=\"1\" class=\"dataframe\">\n",
       "  <thead>\n",
       "    <tr style=\"text-align: right;\">\n",
       "      <th></th>\n",
       "      <th>RECEIPT_ID</th>\n",
       "      <th>PURCHASE_DATE</th>\n",
       "      <th>SCAN_DATE</th>\n",
       "      <th>STORE_NAME</th>\n",
       "      <th>USER_ID</th>\n",
       "      <th>BARCODE</th>\n",
       "      <th>FINAL_QUANTITY</th>\n",
       "      <th>FINAL_SALE</th>\n",
       "    </tr>\n",
       "  </thead>\n",
       "  <tbody>\n",
       "    <tr>\n",
       "      <th>0</th>\n",
       "      <td>0000d256-4041-4a3e-adc4-5623fb6e0c99</td>\n",
       "      <td>2024-08-21</td>\n",
       "      <td>2024-08-21 14:19:06.539 Z</td>\n",
       "      <td>WALMART</td>\n",
       "      <td>63b73a7f3d310dceeabd4758</td>\n",
       "      <td>1.530001e+10</td>\n",
       "      <td>1.00</td>\n",
       "      <td></td>\n",
       "    </tr>\n",
       "    <tr>\n",
       "      <th>1</th>\n",
       "      <td>0001455d-7a92-4a7b-a1d2-c747af1c8fd3</td>\n",
       "      <td>2024-07-20</td>\n",
       "      <td>2024-07-20 09:50:24.206 Z</td>\n",
       "      <td>ALDI</td>\n",
       "      <td>62c08877baa38d1a1f6c211a</td>\n",
       "      <td>NaN</td>\n",
       "      <td>zero</td>\n",
       "      <td>1.49</td>\n",
       "    </tr>\n",
       "    <tr>\n",
       "      <th>2</th>\n",
       "      <td>00017e0a-7851-42fb-bfab-0baa96e23586</td>\n",
       "      <td>2024-08-18</td>\n",
       "      <td>2024-08-19 15:38:56.813 Z</td>\n",
       "      <td>WALMART</td>\n",
       "      <td>60842f207ac8b7729e472020</td>\n",
       "      <td>7.874223e+10</td>\n",
       "      <td>1.00</td>\n",
       "      <td></td>\n",
       "    </tr>\n",
       "    <tr>\n",
       "      <th>3</th>\n",
       "      <td>000239aa-3478-453d-801e-66a82e39c8af</td>\n",
       "      <td>2024-06-18</td>\n",
       "      <td>2024-06-19 11:03:37.468 Z</td>\n",
       "      <td>FOOD LION</td>\n",
       "      <td>63fcd7cea4f8442c3386b589</td>\n",
       "      <td>7.833997e+11</td>\n",
       "      <td>zero</td>\n",
       "      <td>3.49</td>\n",
       "    </tr>\n",
       "    <tr>\n",
       "      <th>4</th>\n",
       "      <td>00026b4c-dfe8-49dd-b026-4c2f0fd5c6a1</td>\n",
       "      <td>2024-07-04</td>\n",
       "      <td>2024-07-05 15:56:43.549 Z</td>\n",
       "      <td>RANDALLS</td>\n",
       "      <td>6193231ae9b3d75037b0f928</td>\n",
       "      <td>4.790050e+10</td>\n",
       "      <td>1.00</td>\n",
       "      <td></td>\n",
       "    </tr>\n",
       "  </tbody>\n",
       "</table>\n",
       "</div>"
      ],
      "text/plain": [
       "                             RECEIPT_ID PURCHASE_DATE  \\\n",
       "0  0000d256-4041-4a3e-adc4-5623fb6e0c99    2024-08-21   \n",
       "1  0001455d-7a92-4a7b-a1d2-c747af1c8fd3    2024-07-20   \n",
       "2  00017e0a-7851-42fb-bfab-0baa96e23586    2024-08-18   \n",
       "3  000239aa-3478-453d-801e-66a82e39c8af    2024-06-18   \n",
       "4  00026b4c-dfe8-49dd-b026-4c2f0fd5c6a1    2024-07-04   \n",
       "\n",
       "                   SCAN_DATE STORE_NAME                   USER_ID  \\\n",
       "0  2024-08-21 14:19:06.539 Z    WALMART  63b73a7f3d310dceeabd4758   \n",
       "1  2024-07-20 09:50:24.206 Z       ALDI  62c08877baa38d1a1f6c211a   \n",
       "2  2024-08-19 15:38:56.813 Z    WALMART  60842f207ac8b7729e472020   \n",
       "3  2024-06-19 11:03:37.468 Z  FOOD LION  63fcd7cea4f8442c3386b589   \n",
       "4  2024-07-05 15:56:43.549 Z   RANDALLS  6193231ae9b3d75037b0f928   \n",
       "\n",
       "        BARCODE FINAL_QUANTITY FINAL_SALE  \n",
       "0  1.530001e+10           1.00             \n",
       "1           NaN           zero       1.49  \n",
       "2  7.874223e+10           1.00             \n",
       "3  7.833997e+11           zero       3.49  \n",
       "4  4.790050e+10           1.00             "
      ]
     },
     "execution_count": 3,
     "metadata": {},
     "output_type": "execute_result"
    }
   ],
   "source": [
    "# View first 5 rows of data\n",
    "data.head()"
   ]
  },
  {
   "cell_type": "code",
   "execution_count": 4,
   "id": "4422dacb-e209-4b80-af0d-796f08bc5762",
   "metadata": {},
   "outputs": [
    {
     "data": {
      "text/plain": [
       "(50000, 8)"
      ]
     },
     "execution_count": 4,
     "metadata": {},
     "output_type": "execute_result"
    }
   ],
   "source": [
    "# Check (rows,columns) of data\n",
    "data.shape"
   ]
  },
  {
   "cell_type": "code",
   "execution_count": 5,
   "id": "467d8449-5a71-470b-aac9-0c0e014fed40",
   "metadata": {},
   "outputs": [
    {
     "data": {
      "text/plain": [
       "RECEIPT_ID         object\n",
       "PURCHASE_DATE      object\n",
       "SCAN_DATE          object\n",
       "STORE_NAME         object\n",
       "USER_ID            object\n",
       "BARCODE           float64\n",
       "FINAL_QUANTITY     object\n",
       "FINAL_SALE         object\n",
       "dtype: object"
      ]
     },
     "execution_count": 5,
     "metadata": {},
     "output_type": "execute_result"
    }
   ],
   "source": [
    "# Check data types of each column\n",
    "data.dtypes"
   ]
  },
  {
   "cell_type": "markdown",
   "id": "7775a75c-dde2-4b2d-8b75-293f1ddcdd31",
   "metadata": {},
   "source": [
    "### Check for NULL values in data"
   ]
  },
  {
   "cell_type": "code",
   "execution_count": 6,
   "id": "0021acd3-6d6d-464c-8050-ef9c94433ce1",
   "metadata": {},
   "outputs": [],
   "source": [
    "# Replace empty strings with NaN across the dataset\n",
    "data = data.replace(r'^\\s*$', pd.NA, regex=True)"
   ]
  },
  {
   "cell_type": "code",
   "execution_count": 7,
   "id": "69c5b618-86d9-4059-a7a8-cdce54b35633",
   "metadata": {},
   "outputs": [],
   "source": [
    "# Replace empty (NaN) cells with 'NULL'\n",
    "data_filled = data.fillna('NULL')"
   ]
  },
  {
   "cell_type": "code",
   "execution_count": 8,
   "id": "f8e58e2f-6961-4448-8ce7-47c4d19910cc",
   "metadata": {},
   "outputs": [
    {
     "data": {
      "image/png": "[encoded data removed]",
      "text/plain": [
       "<Figure size 1000x600 with 1 Axes>"
      ]
     },
     "metadata": {},
     "output_type": "display_data"
    }
   ],
   "source": [
    "# Count the number of 'NULL' values in each column\n",
    "null_counts = (data_filled == 'NULL').sum()\n",
    "\n",
    "# Plot the results\n",
    "plt.figure(figsize=(10, 6))\n",
    "bars = plt.bar(null_counts.index, null_counts.values)\n",
    "plt.title('Count of NULL Values in Each Column', fontsize=16)\n",
    "plt.xlabel('Columns', fontsize=14)\n",
    "plt.ylabel('Count of NULL Values', fontsize=14)\n",
    "plt.xticks(rotation=45, ha='right', fontsize=12)\n",
    "plt.yticks(fontsize=12)\n",
    "\n",
    "# Add data labels on the bars\n",
    "for bar in bars:\n",
    "    plt.text(bar.get_x() + bar.get_width() / 2, bar.get_height(),\n",
    "             str(bar.get_height()), ha='center', va='bottom', fontsize=10)\n",
    "\n",
    "plt.tight_layout()\n",
    "plt.show()"
   ]
  },
  {
   "cell_type": "markdown",
   "id": "26f1236a-3206-432e-9cc8-a3f6e21ad307",
   "metadata": {},
   "source": [
    "### Check data distribution"
   ]
  },
  {
   "cell_type": "code",
   "execution_count": 9,
   "id": "da320c29-7c36-4172-b603-6cab521ebf4b",
   "metadata": {},
   "outputs": [
    {
     "data": {
      "image/png": "[encoded data removed]",
      "text/plain": [
       "<Figure size 1200x600 with 1 Axes>"
      ]
     },
     "metadata": {},
     "output_type": "display_data"
    }
   ],
   "source": [
    "# Calculate the data distribution\n",
    "store_distribution = data['STORE_NAME'].value_counts()\n",
    "\n",
    "# Limit the state distribution to the top 10 stores\n",
    "top_10_stores = store_distribution.head(10)\n",
    "\n",
    "# Bar chart for the top 25 STORE_NAMES\n",
    "plt.figure(figsize=(12, 6))\n",
    "top_10_stores.plot(kind='bar', color='skyblue')\n",
    "plt.title('Distribution of Top 10 STORE_NAMES')\n",
    "plt.xlabel('STORE_NAMES')\n",
    "plt.ylabel('Count')\n",
    "plt.xticks(rotation=45)\n",
    "for index, value in enumerate(top_10_stores):\n",
    "    plt.text(index, value + 1, str(value), ha='center')\n",
    "plt.tight_layout()\n",
    "plt.show()"
   ]
  },
  {
   "cell_type": "markdown",
   "id": "9121cbf7-ee41-4a5e-b978-c83320f1841b",
   "metadata": {},
   "source": [
    "### Change date format"
   ]
  },
  {
   "cell_type": "code",
   "execution_count": 10,
   "id": "6a0a74c5-c1d8-4c68-8a05-3a307a82e159",
   "metadata": {},
   "outputs": [],
   "source": [
    "# Convert the date columns to MM/DD/YYYY format\n",
    "data['SCAN_DATE'] = pd.to_datetime(data['SCAN_DATE'], errors='coerce').dt.strftime('%m/%d/%Y')\n",
    "data['PURCHASE_DATE'] = pd.to_datetime(data['PURCHASE_DATE'], errors='coerce').dt.strftime('%m/%d/%Y')"
   ]
  },
  {
   "cell_type": "markdown",
   "id": "7a30b1d5-ce16-47b2-b802-6c8a0a79241d",
   "metadata": {},
   "source": [
    "### Clean the data"
   ]
  },
  {
   "cell_type": "code",
   "execution_count": 11,
   "id": "159c05ba-dec8-4fec-a00b-902d4217063f",
   "metadata": {},
   "outputs": [
    {
     "name": "stdout",
     "output_type": "stream",
     "text": [
      "Count of 'zero' values in FINAL_QUANTITY: 12500\n"
     ]
    }
   ],
   "source": [
    "# Check for the number of occurrences of 'zero' in the FINAL_QUANTITY column\n",
    "zero_count = (data['FINAL_QUANTITY'] == 'zero').sum()\n",
    "\n",
    "print(f\"Count of 'zero' values in FINAL_QUANTITY: {zero_count}\")"
   ]
  },
  {
   "cell_type": "code",
   "execution_count": 12,
   "id": "e18cd836-6372-4671-9abd-64e81ca5ac0a",
   "metadata": {},
   "outputs": [],
   "source": [
    "# Drop records where FINAL_QUANTITY is \"zero\"\n",
    "data = data[data['FINAL_QUANTITY'] != 'zero']"
   ]
  },
  {
   "cell_type": "code",
   "execution_count": 13,
   "id": "7ea891c1-d628-43be-8374-c0d204b398ca",
   "metadata": {},
   "outputs": [
    {
     "name": "stdout",
     "output_type": "stream",
     "text": [
      "Count of 'NULL' values in FINAL_SALE: 12500\n"
     ]
    }
   ],
   "source": [
    "# Count the number of \"NULL\" values in the FINAL_SALE column\n",
    "null_count_final_sale = data_filled['FINAL_SALE'].value_counts().get('NULL', 0)\n",
    "\n",
    "print(f\"Count of 'NULL' values in FINAL_SALE: {null_count_final_sale}\")"
   ]
  },
  {
   "cell_type": "code",
   "execution_count": 14,
   "id": "0a00b8ce-19ca-4bd9-a6e4-f3fe85615410",
   "metadata": {},
   "outputs": [],
   "source": [
    "# Drop records where FINAL_SALE is NaN\n",
    "data = data.dropna(subset=['FINAL_SALE'])"
   ]
  },
  {
   "cell_type": "code",
   "execution_count": 15,
   "id": "157edaab-26f9-4c7d-b2b0-6c9540a9d04a",
   "metadata": {},
   "outputs": [
    {
     "data": {
      "text/plain": [
       "(25000, 8)"
      ]
     },
     "execution_count": 15,
     "metadata": {},
     "output_type": "execute_result"
    }
   ],
   "source": [
    "# Check (rows,columns) of data\n",
    "data.shape"
   ]
  },
  {
   "cell_type": "code",
   "execution_count": 16,
   "id": "86d10dbd-345d-4b2c-8205-3b79e3270051",
   "metadata": {},
   "outputs": [
    {
     "data": {
      "text/html": [
       "<div>\n",
       "<style scoped>\n",
       "    .dataframe tbody tr th:only-of-type {\n",
       "        vertical-align: middle;\n",
       "    }\n",
       "\n",
       "    .dataframe tbody tr th {\n",
       "        vertical-align: top;\n",
       "    }\n",
       "\n",
       "    .dataframe thead th {\n",
       "        text-align: right;\n",
       "    }\n",
       "</style>\n",
       "<table border=\"1\" class=\"dataframe\">\n",
       "  <thead>\n",
       "    <tr style=\"text-align: right;\">\n",
       "      <th></th>\n",
       "      <th>RECEIPT_ID</th>\n",
       "      <th>PURCHASE_DATE</th>\n",
       "      <th>SCAN_DATE</th>\n",
       "      <th>STORE_NAME</th>\n",
       "      <th>USER_ID</th>\n",
       "      <th>BARCODE</th>\n",
       "      <th>FINAL_QUANTITY</th>\n",
       "      <th>FINAL_SALE</th>\n",
       "    </tr>\n",
       "  </thead>\n",
       "  <tbody>\n",
       "    <tr>\n",
       "      <th>25000</th>\n",
       "      <td>7b3ec72d-9d30-40b8-b185-0bfb638942a9</td>\n",
       "      <td>08/20/2024</td>\n",
       "      <td>08/20/2024</td>\n",
       "      <td>DOLLAR GENERAL STORE</td>\n",
       "      <td>60fc1e6deb7585430ff52ee7</td>\n",
       "      <td>7.455271e+11</td>\n",
       "      <td>1.00</td>\n",
       "      <td>1.65</td>\n",
       "    </tr>\n",
       "    <tr>\n",
       "      <th>25001</th>\n",
       "      <td>04869b68-29e3-4e8d-9bdb-950046fc3473</td>\n",
       "      <td>08/05/2024</td>\n",
       "      <td>08/09/2024</td>\n",
       "      <td>DOLLAR GENERAL STORE</td>\n",
       "      <td>654cf234a225ea102b81072e</td>\n",
       "      <td>7.455271e+11</td>\n",
       "      <td>1.00</td>\n",
       "      <td>1.65</td>\n",
       "    </tr>\n",
       "    <tr>\n",
       "      <th>25002</th>\n",
       "      <td>f1a96308-24a5-46a8-8d8c-285cf9dce1ba</td>\n",
       "      <td>09/03/2024</td>\n",
       "      <td>09/03/2024</td>\n",
       "      <td>WALMART</td>\n",
       "      <td>63c1cb6d3d310dceeac55487</td>\n",
       "      <td>3.700083e+10</td>\n",
       "      <td>1.00</td>\n",
       "      <td>28.22</td>\n",
       "    </tr>\n",
       "    <tr>\n",
       "      <th>25003</th>\n",
       "      <td>7ee1798e-fd2e-4278-838b-f417fdcafe08</td>\n",
       "      <td>08/30/2024</td>\n",
       "      <td>09/04/2024</td>\n",
       "      <td>DOLLAR GENERAL STORE</td>\n",
       "      <td>65c29b137050d0a6206cd24f</td>\n",
       "      <td>1.200050e+10</td>\n",
       "      <td>1.00</td>\n",
       "      <td>5.25</td>\n",
       "    </tr>\n",
       "    <tr>\n",
       "      <th>25004</th>\n",
       "      <td>21feab39-49f2-42e9-ae69-10371e2fc0a9</td>\n",
       "      <td>08/23/2024</td>\n",
       "      <td>08/27/2024</td>\n",
       "      <td>TARGET</td>\n",
       "      <td>61a58ac49c135b462ccddd1c</td>\n",
       "      <td>2.400039e+10</td>\n",
       "      <td>1.00</td>\n",
       "      <td>2.59</td>\n",
       "    </tr>\n",
       "  </tbody>\n",
       "</table>\n",
       "</div>"
      ],
      "text/plain": [
       "                                 RECEIPT_ID PURCHASE_DATE   SCAN_DATE  \\\n",
       "25000  7b3ec72d-9d30-40b8-b185-0bfb638942a9    08/20/2024  08/20/2024   \n",
       "25001  04869b68-29e3-4e8d-9bdb-950046fc3473    08/05/2024  08/09/2024   \n",
       "25002  f1a96308-24a5-46a8-8d8c-285cf9dce1ba    09/03/2024  09/03/2024   \n",
       "25003  7ee1798e-fd2e-4278-838b-f417fdcafe08    08/30/2024  09/04/2024   \n",
       "25004  21feab39-49f2-42e9-ae69-10371e2fc0a9    08/23/2024  08/27/2024   \n",
       "\n",
       "                 STORE_NAME                   USER_ID       BARCODE  \\\n",
       "25000  DOLLAR GENERAL STORE  60fc1e6deb7585430ff52ee7  7.455271e+11   \n",
       "25001  DOLLAR GENERAL STORE  654cf234a225ea102b81072e  7.455271e+11   \n",
       "25002               WALMART  63c1cb6d3d310dceeac55487  3.700083e+10   \n",
       "25003  DOLLAR GENERAL STORE  65c29b137050d0a6206cd24f  1.200050e+10   \n",
       "25004                TARGET  61a58ac49c135b462ccddd1c  2.400039e+10   \n",
       "\n",
       "      FINAL_QUANTITY FINAL_SALE  \n",
       "25000           1.00       1.65  \n",
       "25001           1.00       1.65  \n",
       "25002           1.00      28.22  \n",
       "25003           1.00       5.25  \n",
       "25004           1.00       2.59  "
      ]
     },
     "execution_count": 16,
     "metadata": {},
     "output_type": "execute_result"
    }
   ],
   "source": [
    "# View first 5 rows of data\n",
    "data.head()"
   ]
  },
  {
   "cell_type": "markdown",
   "id": "d33855b9-a44a-497a-a254-b65a1935b7bc",
   "metadata": {},
   "source": [
    "### Check for error records"
   ]
  },
  {
   "cell_type": "code",
   "execution_count": 17,
   "id": "2c8fb901-1f84-4163-b657-b80c5480b938",
   "metadata": {},
   "outputs": [],
   "source": [
    "# Convert the dates to datetime format for subtraction\n",
    "data['PURCHASE_DATE'] = pd.to_datetime(data['PURCHASE_DATE'], errors='coerce', format='%m/%d/%Y')\n",
    "data['SCAN_DATE'] = pd.to_datetime(data['SCAN_DATE'], errors='coerce', format='%m/%d/%Y')\n",
    "\n",
    "# Calculate the difference in days and store values in DAYS_DIFF column\n",
    "data['DAYS_DIFF'] = (data['SCAN_DATE'] - data['PURCHASE_DATE']).dt.days"
   ]
  },
  {
   "cell_type": "code",
   "execution_count": 18,
   "id": "d0d02822-4f00-4187-9052-0e99dc48615b",
   "metadata": {},
   "outputs": [
    {
     "data": {
      "text/html": [
       "<div>\n",
       "<style scoped>\n",
       "    .dataframe tbody tr th:only-of-type {\n",
       "        vertical-align: middle;\n",
       "    }\n",
       "\n",
       "    .dataframe tbody tr th {\n",
       "        vertical-align: top;\n",
       "    }\n",
       "\n",
       "    .dataframe thead th {\n",
       "        text-align: right;\n",
       "    }\n",
       "</style>\n",
       "<table border=\"1\" class=\"dataframe\">\n",
       "  <thead>\n",
       "    <tr style=\"text-align: right;\">\n",
       "      <th></th>\n",
       "      <th>RECEIPT_ID</th>\n",
       "      <th>PURCHASE_DATE</th>\n",
       "      <th>SCAN_DATE</th>\n",
       "      <th>STORE_NAME</th>\n",
       "      <th>USER_ID</th>\n",
       "      <th>BARCODE</th>\n",
       "      <th>FINAL_QUANTITY</th>\n",
       "      <th>FINAL_SALE</th>\n",
       "      <th>DAYS_DIFF</th>\n",
       "    </tr>\n",
       "  </thead>\n",
       "  <tbody>\n",
       "    <tr>\n",
       "      <th>25000</th>\n",
       "      <td>7b3ec72d-9d30-40b8-b185-0bfb638942a9</td>\n",
       "      <td>2024-08-20</td>\n",
       "      <td>2024-08-20</td>\n",
       "      <td>DOLLAR GENERAL STORE</td>\n",
       "      <td>60fc1e6deb7585430ff52ee7</td>\n",
       "      <td>7.455271e+11</td>\n",
       "      <td>1.00</td>\n",
       "      <td>1.65</td>\n",
       "      <td>0</td>\n",
       "    </tr>\n",
       "    <tr>\n",
       "      <th>25001</th>\n",
       "      <td>04869b68-29e3-4e8d-9bdb-950046fc3473</td>\n",
       "      <td>2024-08-05</td>\n",
       "      <td>2024-08-09</td>\n",
       "      <td>DOLLAR GENERAL STORE</td>\n",
       "      <td>654cf234a225ea102b81072e</td>\n",
       "      <td>7.455271e+11</td>\n",
       "      <td>1.00</td>\n",
       "      <td>1.65</td>\n",
       "      <td>4</td>\n",
       "    </tr>\n",
       "    <tr>\n",
       "      <th>25002</th>\n",
       "      <td>f1a96308-24a5-46a8-8d8c-285cf9dce1ba</td>\n",
       "      <td>2024-09-03</td>\n",
       "      <td>2024-09-03</td>\n",
       "      <td>WALMART</td>\n",
       "      <td>63c1cb6d3d310dceeac55487</td>\n",
       "      <td>3.700083e+10</td>\n",
       "      <td>1.00</td>\n",
       "      <td>28.22</td>\n",
       "      <td>0</td>\n",
       "    </tr>\n",
       "    <tr>\n",
       "      <th>25003</th>\n",
       "      <td>7ee1798e-fd2e-4278-838b-f417fdcafe08</td>\n",
       "      <td>2024-08-30</td>\n",
       "      <td>2024-09-04</td>\n",
       "      <td>DOLLAR GENERAL STORE</td>\n",
       "      <td>65c29b137050d0a6206cd24f</td>\n",
       "      <td>1.200050e+10</td>\n",
       "      <td>1.00</td>\n",
       "      <td>5.25</td>\n",
       "      <td>5</td>\n",
       "    </tr>\n",
       "    <tr>\n",
       "      <th>25004</th>\n",
       "      <td>21feab39-49f2-42e9-ae69-10371e2fc0a9</td>\n",
       "      <td>2024-08-23</td>\n",
       "      <td>2024-08-27</td>\n",
       "      <td>TARGET</td>\n",
       "      <td>61a58ac49c135b462ccddd1c</td>\n",
       "      <td>2.400039e+10</td>\n",
       "      <td>1.00</td>\n",
       "      <td>2.59</td>\n",
       "      <td>4</td>\n",
       "    </tr>\n",
       "  </tbody>\n",
       "</table>\n",
       "</div>"
      ],
      "text/plain": [
       "                                 RECEIPT_ID PURCHASE_DATE  SCAN_DATE  \\\n",
       "25000  7b3ec72d-9d30-40b8-b185-0bfb638942a9    2024-08-20 2024-08-20   \n",
       "25001  04869b68-29e3-4e8d-9bdb-950046fc3473    2024-08-05 2024-08-09   \n",
       "25002  f1a96308-24a5-46a8-8d8c-285cf9dce1ba    2024-09-03 2024-09-03   \n",
       "25003  7ee1798e-fd2e-4278-838b-f417fdcafe08    2024-08-30 2024-09-04   \n",
       "25004  21feab39-49f2-42e9-ae69-10371e2fc0a9    2024-08-23 2024-08-27   \n",
       "\n",
       "                 STORE_NAME                   USER_ID       BARCODE  \\\n",
       "25000  DOLLAR GENERAL STORE  60fc1e6deb7585430ff52ee7  7.455271e+11   \n",
       "25001  DOLLAR GENERAL STORE  654cf234a225ea102b81072e  7.455271e+11   \n",
       "25002               WALMART  63c1cb6d3d310dceeac55487  3.700083e+10   \n",
       "25003  DOLLAR GENERAL STORE  65c29b137050d0a6206cd24f  1.200050e+10   \n",
       "25004                TARGET  61a58ac49c135b462ccddd1c  2.400039e+10   \n",
       "\n",
       "      FINAL_QUANTITY FINAL_SALE  DAYS_DIFF  \n",
       "25000           1.00       1.65          0  \n",
       "25001           1.00       1.65          4  \n",
       "25002           1.00      28.22          0  \n",
       "25003           1.00       5.25          5  \n",
       "25004           1.00       2.59          4  "
      ]
     },
     "execution_count": 18,
     "metadata": {},
     "output_type": "execute_result"
    }
   ],
   "source": [
    "# View first 5 rows of data\n",
    "data.head()"
   ]
  },
  {
   "cell_type": "code",
   "execution_count": 19,
   "id": "67ce8bd7-b0b9-48ef-bf46-9dded7029b50",
   "metadata": {},
   "outputs": [
    {
     "name": "stdout",
     "output_type": "stream",
     "text": [
      "Number of negative DAYS_DIFF values: 47\n"
     ]
    }
   ],
   "source": [
    "# Count the number of rows where DATE_DIFFERENCE is negative\n",
    "negative_count = (data['DAYS_DIFF'] < 0).sum()\n",
    "\n",
    "print(f\"Number of negative DAYS_DIFF values: {negative_count}\")\n"
   ]
  },
  {
   "cell_type": "code",
   "execution_count": 20,
   "id": "68086d80-db55-42e2-a384-a12299729f3d",
   "metadata": {},
   "outputs": [
    {
     "name": "stdout",
     "output_type": "stream",
     "text": [
      "Number of negative BARCODE values: 4\n"
     ]
    }
   ],
   "source": [
    "# Check for negative values in the BARCODE column\n",
    "negative_barcodes = data[data['BARCODE'] < 0]\n",
    "\n",
    "# Count the number of negative values in the BARCODE column\n",
    "negative_barcodes_count = negative_barcodes.shape[0]\n",
    "\n",
    "print(f\"Number of negative BARCODE values: {negative_barcodes_count}\")\n"
   ]
  },
  {
   "cell_type": "markdown",
   "id": "98201316-aaeb-4640-8896-853290acf01a",
   "metadata": {},
   "source": [
    "### Prepare data for analysis"
   ]
  },
  {
   "cell_type": "code",
   "execution_count": 21,
   "id": "3c06eb7b-ecea-421d-bfcf-fa28d03ae8e1",
   "metadata": {},
   "outputs": [],
   "source": [
    "# Replace \"NULL\" values with empty cells\n",
    "data = data.replace('NULL', '')"
   ]
  },
  {
   "cell_type": "markdown",
   "id": "afc6728c-1c34-4958-931e-94b2b4726f30",
   "metadata": {},
   "source": [
    "## Observations\n",
    "Columns:\n",
    "1) RECEIPT_ID: No issues found.\n",
    "2) PURCHASE_DATE: Converted to MM/DD/YYYY format.\n",
    "3) SCAN_DATE: Converted to MM/DD/YYYY format.\n",
    "4) STORE_NAME: No issues found\n",
    "5) USER_ID: No issues found\n",
    "6) BARCODE: NULL values found, 4 Negative values (-1) found\n",
    "7) FINAL_QUANTITY: Found 12500 'zero' values, records deleted\n",
    "8) FINAL_SALE: 12500 NULL values found, records deleted\n",
    "\n",
    "Found 47 records where the SCAN_DATE was before PURCHASE_DATE. \n",
    "Deleting records with 'zero' value in FINAL_QUANTITY and NULL values in FINAL_SALE, lead to 50% of the original dataset i.e. from 50k rows to 25k rows."
   ]
  }
 ],
 "metadata": {
  "kernelspec": {
   "display_name": "Python 3 (ipykernel)",
   "language": "python",
   "name": "python3"
  },
  "language_info": {
   "codemirror_mode": {
    "name": "ipython",
    "version": 3
   },
   "file_extension": ".py",
   "mimetype": "text/x-python",
   "name": "python",
   "nbconvert_exporter": "python",
   "pygments_lexer": "ipython3",
   "version": "3.12.7"
  }
 },
 "nbformat": 4,
 "nbformat_minor": 5
}
